{
 "cells": [
  {
   "cell_type": "code",
   "execution_count": 1,
   "metadata": {},
   "outputs": [
    {
     "name": "stdout",
     "output_type": "stream",
     "text": [
      "['/workspaces/asclepius/src/Api/notebooks', '/usr/local/lib/python311.zip', '/usr/local/lib/python3.11', '/usr/local/lib/python3.11/lib-dynload', '', '/home/vscode/.local/lib/python3.11/site-packages', '/usr/local/lib/python3.11/site-packages', '/workspaces/asclepius/src/Api']\n"
     ]
    }
   ],
   "source": [
    "import sys\n",
    "sys.path.append('/workspaces/asclepius/src/Api')\n",
    "\n",
    "print(sys.path)"
   ]
  },
  {
   "cell_type": "code",
   "execution_count": 2,
   "metadata": {},
   "outputs": [],
   "source": [
    "from semantic_kernel.connectors.ai.open_ai import AzureChatCompletion\n",
    "from semantic_kernel.kernel import Kernel, KernelArguments\n",
    "from semantic_kernel.utils.settings import (\n",
    "    azure_openai_settings_from_dot_env,\n",
    ")\n",
    "import pandas as pd\n",
    "import tiktoken\n",
    "\n",
    "import Plugins.parse_notes_plugin as pnp"
   ]
  },
  {
   "cell_type": "code",
   "execution_count": 3,
   "metadata": {},
   "outputs": [],
   "source": [
    "enc = tiktoken.get_encoding('cl100k_base')"
   ]
  },
  {
   "cell_type": "code",
   "execution_count": 4,
   "metadata": {},
   "outputs": [
    {
     "data": {
      "text/plain": [
       "0    1560\n",
       "1    4203\n",
       "Name: NOTE_TEXT_TOKENS, dtype: int64"
      ]
     },
     "execution_count": 4,
     "metadata": {},
     "output_type": "execute_result"
    }
   ],
   "source": [
    "note_df = pd.read_csv('/workspaces/asclepius/src/Api/data/notes_no_PHI.csv')\n",
    "\n",
    "# calculate length of 'NOTE_TEXT' column and add value as another column\n",
    "note_df['NOTE_TEXT_TOKENS'] = note_df['NOTE_TEXT'].apply(lambda x: len(enc.encode(x)))\n",
    "\n",
    "note_df['NOTE_TEXT_TOKENS']"
   ]
  },
  {
   "cell_type": "markdown",
   "metadata": {},
   "source": [
    "## These native functions use only string parsing to fetch note sections"
   ]
  },
  {
   "cell_type": "code",
   "execution_count": 23,
   "metadata": {},
   "outputs": [
    {
     "data": {
      "text/html": [
       "<div>\n",
       "<style scoped>\n",
       "    .dataframe tbody tr th:only-of-type {\n",
       "        vertical-align: middle;\n",
       "    }\n",
       "\n",
       "    .dataframe tbody tr th {\n",
       "        vertical-align: top;\n",
       "    }\n",
       "\n",
       "    .dataframe thead th {\n",
       "        text-align: right;\n",
       "    }\n",
       "</style>\n",
       "<table border=\"1\" class=\"dataframe\">\n",
       "  <thead>\n",
       "    <tr style=\"text-align: right;\">\n",
       "      <th></th>\n",
       "      <th>NOTE_TEXT_TOKENS</th>\n",
       "      <th>CHIEF_COMPLAINT_TOKENS</th>\n",
       "      <th>ROS_TOKENS</th>\n",
       "      <th>ASSESSMENT_TOKENS</th>\n",
       "    </tr>\n",
       "  </thead>\n",
       "  <tbody>\n",
       "    <tr>\n",
       "      <th>0</th>\n",
       "      <td>1560</td>\n",
       "      <td>481</td>\n",
       "      <td>0</td>\n",
       "      <td>447</td>\n",
       "    </tr>\n",
       "    <tr>\n",
       "      <th>1</th>\n",
       "      <td>4203</td>\n",
       "      <td>672</td>\n",
       "      <td>100</td>\n",
       "      <td>2624</td>\n",
       "    </tr>\n",
       "  </tbody>\n",
       "</table>\n",
       "</div>"
      ],
      "text/plain": [
       "   NOTE_TEXT_TOKENS  CHIEF_COMPLAINT_TOKENS  ROS_TOKENS  ASSESSMENT_TOKENS\n",
       "0              1560                     481           0                447\n",
       "1              4203                     672         100               2624"
      ]
     },
     "execution_count": 23,
     "metadata": {},
     "output_type": "execute_result"
    }
   ],
   "source": [
    "plugin = pnp.ParseNotesPlugin()\n",
    "\n",
    "note_df['CHIEF_COMPLAINT'] = note_df['NOTE_TEXT'].apply(lambda x: plugin.get_chief_complaint(input=x))\n",
    "note_df['CHIEF_COMPLAINT_TOKENS'] = note_df['CHIEF_COMPLAINT'].apply(lambda x: len(enc.encode(x)))\n",
    "\n",
    "note_df['ROS'] = note_df['NOTE_TEXT'].apply(lambda x: plugin.get_ros(input=x))\n",
    "note_df['ROS_TOKENS'] = note_df['ROS'].apply(lambda x: len(enc.encode(x)))\n",
    "\n",
    "note_df['ASSESSMENT'] = note_df['NOTE_TEXT'].apply(lambda x: plugin.get_assessment(input=x))\n",
    "note_df['ASSESSMENT_TOKENS'] = note_df['ASSESSMENT'].apply(lambda x: len(enc.encode(x)))\n",
    "\n",
    "note_df[['NOTE_TEXT_TOKENS', 'CHIEF_COMPLAINT_TOKENS', 'ROS_TOKENS', 'ASSESSMENT_TOKENS']]\n",
    "\n",
    "#print(note_df['CHIEF_COMPLAINT'][1])\n"
   ]
  },
  {
   "cell_type": "code",
   "execution_count": null,
   "metadata": {},
   "outputs": [],
   "source": [
    "print(note_df['ASSESSMENT'][1])"
   ]
  },
  {
   "cell_type": "markdown",
   "metadata": {},
   "source": [
    "## Use OpenAI to find and generate summaries of the note sections"
   ]
  },
  {
   "cell_type": "code",
   "execution_count": 15,
   "metadata": {},
   "outputs": [
    {
     "name": "stdout",
     "output_type": "stream",
     "text": [
      "https://phjirsa-aoai.openai.azure.com/\n"
     ]
    },
    {
     "data": {
      "text/html": [
       "<div>\n",
       "<style scoped>\n",
       "    .dataframe tbody tr th:only-of-type {\n",
       "        vertical-align: middle;\n",
       "    }\n",
       "\n",
       "    .dataframe tbody tr th {\n",
       "        vertical-align: top;\n",
       "    }\n",
       "\n",
       "    .dataframe thead th {\n",
       "        text-align: right;\n",
       "    }\n",
       "</style>\n",
       "<table border=\"1\" class=\"dataframe\">\n",
       "  <thead>\n",
       "    <tr style=\"text-align: right;\">\n",
       "      <th></th>\n",
       "      <th>NOTE_TEXT_TOKENS</th>\n",
       "      <th>SUM_CHIEF_COMPLAINT_TOKENS</th>\n",
       "      <th>SUM_LAB_HISTORY_TOKENS</th>\n",
       "      <th>SUM_ASSESSMENT_TOKENS</th>\n",
       "    </tr>\n",
       "  </thead>\n",
       "  <tbody>\n",
       "    <tr>\n",
       "      <th>0</th>\n",
       "      <td>1560</td>\n",
       "      <td>214.0</td>\n",
       "      <td>14.0</td>\n",
       "      <td>242.0</td>\n",
       "    </tr>\n",
       "    <tr>\n",
       "      <th>1</th>\n",
       "      <td>4203</td>\n",
       "      <td>264.0</td>\n",
       "      <td>203.0</td>\n",
       "      <td>201.0</td>\n",
       "    </tr>\n",
       "  </tbody>\n",
       "</table>\n",
       "</div>"
      ],
      "text/plain": [
       "   NOTE_TEXT_TOKENS  SUM_CHIEF_COMPLAINT_TOKENS  SUM_LAB_HISTORY_TOKENS  \\\n",
       "0              1560                       214.0                    14.0   \n",
       "1              4203                       264.0                   203.0   \n",
       "\n",
       "   SUM_ASSESSMENT_TOKENS  \n",
       "0                  242.0  \n",
       "1                  201.0  "
      ]
     },
     "execution_count": 15,
     "metadata": {},
     "output_type": "execute_result"
    }
   ],
   "source": [
    "deployment, api_key, endpoint = azure_openai_settings_from_dot_env()\n",
    "print(endpoint)\n",
    "\n",
    "kernel = Kernel()\n",
    "service_id = \"default\"\n",
    "\n",
    "kernel.add_service(AzureChatCompletion(\n",
    "    service_id=service_id,    \n",
    "    deployment_name=deployment,\n",
    "    endpoint=endpoint,\n",
    "    api_key=api_key,\n",
    "))\n",
    "\n",
    "plugin = kernel.import_plugin_from_prompt_directory('/workspaces/asclepius/src/Api/Plugins', 'summarize_note')\n",
    "\n",
    "functions = [\n",
    "    plugin[\"summarize_chief_complaint\"], \n",
    "    plugin[\"summarize_lab_history\"],\n",
    "    plugin[\"summarize_assessment\"]\n",
    "]\n",
    "\n",
    "for idx, note in note_df.iterrows():\n",
    "    arguments = KernelArguments(input=note[\"NOTE_TEXT\"])\n",
    "    response = await kernel.invoke(functions, arguments)\n",
    "\n",
    "    note_df.loc[idx, 'SUM_CHIEF_COMPLAINT'] = response[0].value[0].content\n",
    "    note_df.loc[idx, 'SUM_LAB_HISTORY'] = response[1].value[0].content\n",
    "    note_df.loc[idx, 'SUM_ASSESSMENT'] = response[2].value[0].content\n",
    "    \n",
    "    note_df.loc[idx, 'SUM_CHIEF_COMPLAINT_TOKENS'] = int(len(enc.encode(response[0].value[0].content)))\n",
    "    note_df.loc[idx, 'SUM_LAB_HISTORY_TOKENS'] = int(len(enc.encode(response[1].value[0].content)))\n",
    "    note_df.loc[idx, 'SUM_ASSESSMENT_TOKENS'] = int(len(enc.encode(response[2].value[0].content)))\n",
    "\n",
    "cols = ['NOTE_TEXT_TOKENS', 'SUM_CHIEF_COMPLAINT_TOKENS', 'SUM_LAB_HISTORY_TOKENS', 'SUM_ASSESSMENT_TOKENS']\n",
    "note_df[cols]\n",
    "\n",
    "#chief_complaint = response[0].value[0].content\n"
   ]
  },
  {
   "cell_type": "code",
   "execution_count": 44,
   "metadata": {},
   "outputs": [],
   "source": [
    "note_df[cols].to_csv('/workspaces/asclepius/src/Api/data/output/note_summary.csv', index=False)"
   ]
  },
  {
   "cell_type": "code",
   "execution_count": 17,
   "metadata": {},
   "outputs": [
    {
     "name": "stdout",
     "output_type": "stream",
     "text": [
      "The patient, Sky Ryder, is a 27-year-old female who presented to establish care and for a physical examination with annual labs. She has a history of chronic pain in her right knee and had surgery in 2016 but continues to experience pain. She would like a referral to an orthopedic specialist. She is currently taking celexa daily for depression and is doing well on it. She is also on semaglutide through a weight loss clinic and is doing well with that. Previous labs showed low HDL and elevated CRP. She is also being seen for follow-up of hypothyroidism, but denies any symptoms related to it. Her current medications include citalopram, folic acid, levothyroxine, and semaglutide. The patient has no significant findings on physical examination and her vital signs are within normal limits. The plan includes a referral to ortho for her knee pain, alternating ibuprofen and Tylenol for pain relief, and scheduling with a gynecologist for a PAP smear.\n"
     ]
    }
   ],
   "source": [
    "print(note_df['SUM_CHIEF_COMPLAINT'][0])"
   ]
  },
  {
   "cell_type": "code",
   "execution_count": 14,
   "metadata": {},
   "outputs": [
    {
     "data": {
      "text/plain": [
       "\"Depression Screen \\nPositive:  PHQ-2 score >= 3 or PHQ-9 score >= 9\\nPHQ-2 Total: 0 (4/16/2024 11:35 AM)\\nPHQ-9 Total: 0 (4/16/2024 11:35 AM)\\n \\nDEPRESSION PLAN OF CARE\\nHer depression screen was negative.\\n \\nChase Humdinger is a 83 y.o. female\\n\\nChief Complaint\\nPatient presents with\\n• Annual Wellness Visit (Medicare)\\n• Medication Review\\n  Patient has been taking half of all her medications, patient states her smart watch tells her that she has a fib\\n \\n \\nPt is here for routine check up.\\nShe has history of palpitations and states occasionally she will be notified by her watch that her pulse is high while she feels the palpitations. She has cut the cytomel in half and is taking over other day which she feels like has improved her symptoms. \\nShe's also been cutting her toprol in half and BP has been high. Discussed taking full pull routinely to help regulate pulse and improve BP. \\n \\nReviewed previous labs \\nHistory of elevated prolactin - pt didn't like the medication prescribed to lower prolactin. She's been taking a natural supplement and would like to recheck lab. \\n \\n \\nThyroid Disorder - advised to take medications 6 days per week after last lab. Pt has been taking 1/2 of cytomel every other day\\n She is seen today for follow up of hypothyroidism. Current symptoms include: palpitations. Denies swallowing difficulty, voice change or masses noted in the neck.  Thyroid medication is taken daily with 45-60 minutes separating ingestion of food or other medications/supplements. \\nThis is a chronic problem. Pertinent negatives include no chest pain, no abdominal pain and no shortness of breath. Nothing aggravates the symptoms. Relieved by: medication. \\n \\n\\nLab Results\\nComponent Value Date/Time\\n  TSH <0.01 (L) 10/18/2023 11:52 AM\\n  T3 86 09/04/2020 11:49 AM\\n  T3FREE 4.7 (H) 10/18/2023 11:52 AM\\n  T4FREE 1.9 (H) 10/18/2023 11:52 AM\\n \\n \\n \\n \\nROS\\nConstitutional: Negative for chills, diaphoresis and unexpected weight change. \\nHENT: Negative for hearing loss, nosebleeds and sore throat.  \\nEyes: Negative for pain, discharge and redness. \\nRespiratory: Negative for chest tightness, shortness of breath and wheezing.  \\nCardiovascular: Negative.  \\nGastrointestinal: Negative for abdominal pain, blood in stool, constipation, diarrhea and nausea. \\nGenitourinary: Negative for difficulty urinating, dysuria and flank pain. \\nMusculoskeletal: see HPI\\nSkin: Negative for rash. \\nNeurological: Negative for dizziness, seizures and syncope. \\nPsychiatric/Behavioral: Negative for behavioral problems and hallucinations. \\n \\n\\nPast Medical History\\nPast Medical History:\\nDiagnosis Date\\n• Degeneration of thoracic or thoracolumbar intervertebral disc \\n• GERD (gastroesophageal reflux disease) 1/27/2011\\n• HTN (hypertension) \\n• Hyperlipidemia 2/12/2013\\n• Mixed hyperlipidemia \\n• Other speech disturbance \\n• Unspecified conductive hearing loss \\n• Unspecified hypothyroidism \\n\\n \\n \\n\\n\\nCurrent Meds\\n \\nCurrent Outpatient Medications: \\n•  liothyronine (CYTOMEL) 5 mcg Tablet, Take 1 Tablet (5 mcg) by mouth daily., Disp: 90 Tablet, Rfl: 1\\n•  levothyroxine 137 mcg tablet, Take 1 Tablet (137 mcg) by mouth daily in the morning., Disp: 90 Tablet, Rfl: 3\\n•  metoprolol succinate (TOPROL XL) 50 mg Extended Release 24 hour tablet, Take 1 Tablet (50 mg) by mouth daily., Disp: 90 Tablet, Rfl: 3\\n•  traMADoL (ULTRAM) 50 mg tablet, Take 1 Tablet (50 mg) by mouth 2 times daily as needed for Pain, Moderate (chronic pain)., Disp: 60 Tablet, Rfl: 0\\n•  [DISCONTINUED] metoprolol succinate (TOPROL XL) 50 mg Extended Release 24 hour tablet, take 1 tablet by mouth every day, Disp: 90 Tablet, Rfl: 1\\n•  [DISCONTINUED] liothyronine (CYTOMEL) 25 mcg Tablet, TAKE 1 TABLET BY MOUTH EVERY DAY, Disp: 90 Tablet, Rfl: 0\\n•  [DISCONTINUED] traMADoL (ULTRAM) 50 mg tablet, Take 1 Tablet (50 mg) by mouth 2 times daily as needed for Pain, Moderate (chronic pain). (Patient not taking: Reported on 3/27/2024), Disp: 60 Tablet, Rfl: 0\\n•  [DISCONTINUED] levothyroxine 137 mcg tablet, Take 1 Tablet (137 mcg) by mouth daily in the morning., Disp: 90 Tablet, Rfl: 3\\n\\n \\n \\n\\nAllergies\\nAllergen Reactions\\n• Lisinopril Unknown\\n• Penicillins Unknown\\n \\n \\n \\nOBJECTIVE\\n \\nBP (!) 154/80  | Pulse 86  | Temp 98.6 °F (37 °C) (Temporal)  | Resp 16  | Ht 5' (1.524 m)  | Wt 61.2 kg (135 lb)  | SpO2 98%  | BMI 26.37 kg/m² \\n \\nPhysical Exam\\nConstitutional: oriented to person, place, and time. appears well-developed and well-nourished. \\nHead: Normocephalic and atraumatic. \\nCardiovascular: Normal rate, regular rhythm and normal heart sounds.  No peripheral edema\\nPulmonary/Chest: Effort normal and breath sounds normal. \\nMusculoskeletal: Normal gait. No digital cyanosis or clubbing\\nSkin: Normal color, dry and warm without rashes or lesions \\nPsychiatric: normal mood and affect. behavior is normal.\\n \\nEKG: normal EKG, normal sinus rhythm, 1st degree AV block.\\n \\n \\nASSESSMENT and PLAN: \\n \\n\\n  ICD-10-CM ICD-9-CM \\n1. Medicare annual wellness visit, subsequent Z00.00 V70.0 \\n \\n2. Hypothyroidism due to acquired atrophy of thyroid E03.4 244.8 liothyronine (CYTOMEL) 5 mcg Tablet\\n  246.8 TSH\\n  T3 FREE\\n  T4 FREE\\n  levothyroxine 137 mcg tablet\\n  T4 FREE\\n  T3 FREE\\n  TSH\\n \\n3. Prolactinoma D35.2 227.3 PROLACTIN\\n  PROLACTIN\\n \\n4. Vitamin D deficiency E55.9 268.9 VITAMIN D 25 HYDROXY\\n  VITAMIN D 25 HYDROXY\\n \\n5. Essential hypertension, benign I10 401.1 CBC WITHOUT DIFFERENTIAL\\n  COMPREHENSIVE METABOLIC PANEL\\n  LIPID PANEL\\n  metoprolol succinate (TOPROL XL) 50 mg Extended Release 24 hour tablet\\n  LIPID PANEL\\n  COMPREHENSIVE METABOLIC PANEL\\n  CBC WITHOUT DIFFERENTIAL\\n \\n6. Palpitations R00.2 785.1 metoprolol succinate (TOPROL XL) 50 mg Extended Release 24 hour tablet\\n  EKG 12-LEAD\\n \\n7. Lumbar disc disease M51.9 722.93 traMADoL (ULTRAM) 50 mg tablet\\n \\n \\n \\nLabs today\\nIncrease toprol back to 1 pill daily\\nDecrease cytomel to 5mcg daily, continue levothyroxine\\nTramadol refilled, takes sparingly for chronic back pain, one script usually lasts the whole year\\n \\n \\nChase Humdinger is a 83 y.o. female here today for her Medicare Annual Wellness Visit.  Also due for Chronic Conditions Coordination. \\n \\n\\nMEDICARE WELLNESS VISIT\\n \\nHEALTH RISK ASSESSMENT\\nCompleted by and reviewed with patient/caregiver. See Annual Wellness Visit HRA Flowsheet\\nIn general, how would you rate your health?: Very Good (04/16/24 1135) \\nAre you basically satisfied with your life? : Yes (04/16/24 1135)\\n \\nMEDICAL RECORD REVIEWED AND UPDATED, INCLUDING:  \\nDemographics\\nCurrent providers and suppliers: Patient Care Team:\\nBost, Dekoda, DO as PCP - General (Family Practice)\\nLaughlin, Amanda, PA-C as PCP - Primary Care APP1 (Physician Assistant)\\nKakish, William Randall, MD (Gastroenterology)\\nEngles, Charles F, MD (Neurosurgery)\\nReynolds, William Emery, MD (Neurosurgery)\\nRogers, Craig A, DO (Orthopedic Surgery)\\n \\n \\nPast Medical and Surgical History\\nFamily History\\nSocial History\\nAllergies\\n \\nCURRENT MEDICATIONS REVIEWED AND RECONCILED\\n\\nMedications at start of encounter\\n• [DISCONTINUED] metoprolol succinate take 1 tablet by mouth every day\\n• [DISCONTINUED] liothyronine TAKE 1 TABLET BY MOUTH EVERY DAY\\n• [DISCONTINUED] traMADoL Take 1 Tablet (50 mg) by mouth 2 times daily as needed for Pain, Moderate (chronic pain). (Patient not taking: Reported on 4/16/2024)\\n• [DISCONTINUED] levothyroxine Take 1 Tablet (137 mcg) by mouth daily in the morning.\\n\\n \\n \\n \\nIn general, how often do you forget or decide not to take one or more of your medications?: Never (04/16/24 1135)\\n \\n\\nEXAMINATION(MA may complete) \\nBP (!) 154/80  | Pulse 86  | Temp 98.6 °F (37 °C) (Temporal)  | Resp 16  | Ht 5' (1.524 m)  | Wt 61.2 kg (135 lb)  | SpO2 98%  | BMI 26.37 kg/m²  \\n \\nVisual Acuity:  \\n \\nHearing: \\nHave you been told by others you turn up your TV volume too high or that you have problems hearing? : Yes (04/16/24 1135)\\n \\n\\nFUNCTIONAL ABILITY, FRAILTY AND SAFETY\\nHave you fallen one or more times in the past year?: No (04/16/24 1135) (QM)\\nPatient denies needing help with any ADL's.  \\n \\nDo you currently use any medical equipment, such as a cane, walker, wheelchair, or oxygen tank?: No (04/16/24 1135)\\n    \\n \\nDo you fasten your seat belt when you are in the car?: Yes (04/16/24 1135)\\nDo you feel safe at home?: Yes (04/16/24 1135)\\n \\n\\nPATIENT EXPERIENCE CONVERSATION\\nAny changes or new problems with bladder control  or leaking of urine?: No (04/16/24 1135)\\nPatient encouraged to inform us of any future changes\\n \\nHave you noticed any changes or new problems with balance, walking and/or falling?: No (04/16/24 1135)\\nPatient encouraged to inform us of any future changes\\n \\nHow many days a week do you do at least 10 - 15 minutes of some type of exercise or physical activity?: 4 or more days (04/16/24 1135)\\nPatient encouraged to maintain their current level of physical activity\\n \\nAny changes or new problems with your mental or emotional health, such as stress or anxiety?: Yes (04/16/24 1135)\\nManagement options discussed:  coping/relaxation exercises\\n \\n \\n\\nRISK ASSESSMENT \\n (QM) Depression Screen \\nPositive:  PHQ-2 score >= 3 or PHQ-9 score >= 9\\nPHQ-2 Total: 0 (4/16/2024 11:35 AM)\\nPHQ-9 Total: 0 (4/16/2024 11:35 AM)\\n \\nDEPRESSION PLAN OF CARE\\nHer depression screen was negative.\\n \\nHow often do you feel angry? : Sometimes (04/16/24 1135)\\nHow often do you feel lonely?: Sometimes (04/16/24 1135)\\n \\nTOBACCO COUNSELING (QM)\\n reports that she has never smoked. She has never used smokeless tobacco.\\nShe is not a tobacco/nicotine user. \\n \\nOpioid Use\\nCurrent Opioids:traMADoL (ULTRAM) 50 mg tablet [45678916] OUD risk evaluation up to date.  \\nDiscussed with the patient the risks of dependence that may occur with the use of opioids. This discussion included education that using opioids increases the risk of addiction and overdose. It is dangerous to take opioid drugs with alcohol, benzodiazepines, and other central nervous system depressants. This prescription has been deemed necessary to help with pain symptoms, and alternative treatments were discussed. Also discussed specifically the highly addictive nature of the controlled dangerous substance, the risk of developing a dependence on the controlled dangerous substance, and the risks of taking more opioids than prescribed or mixing sedatives, benzodiazepines, or alcohol can result in fatal respiratory depression.  \\nEvaluated the patient and determined that there is no undue risk of abuse, addiction, or diversion at this time.  Determined that patient is not experiencing problems associated with physical or psychological dependence before renewing opioid prescription.\\nDuring the past 4 weeks, would you say you have had...: No pain (04/16/24 1135)\\nCurrent treatment plan is:effective\\n \\n \\n \\n \\nCognitive Impairment\\nCognitive ability observed and assessed throughout the exam.  \\nStructured assessment: not indicated based on this assessment. .  \\n \\n\\nPREVENTIVE CARE GUIDELINES \\n Written Screening Schedule for the next 5-10 years developed and provided to patient.\\n \\n \\n\\nPreventive Care Recommendations for AVERAGE Risk Adult Females > 65yo\\n \\n\\nMeasure USPSTF Recommendation\\nBreast cancer screening (mammogram) Every 1 to 2 years for women >40\\nOsteoporosis Screening (bone density) Women >65\\nColon Cancer Screening Colonoscopy every 10 yrs or Fecal Occult Blood testing yearly ages 45-75\\nLung Cancer Screening Annual low-dose CT, adults 50 - 80* w/ >20 pack-year smoking hx who currently smoke or have quit w/in 15 yrs\\n(*Medicare will not cover for >77 yo) \\nLipid Screening Identification of dyslipidemia and calculation of 10-year CVD event risk requires universal lipid screening in adults ages 40 - 75\\nPre-diabetes/Diabetes Screening Adults 35-70 who are overweight or obese\\nHepatitis C Screening Adults 18-79\\n \\n\\nImmunizations Influenza: yearly\\nPneumococcal: PCV (+/- PPSV23 depending on PCV type) \\nTetanus: all adults every 10 yrs\\nZoster(Shingles):>50yo, series of 2 \\n \\n \\n \\n \\n\\nADVANCE CARE PLANNING (optional)\\nDo you have an Advance Directive (Living Will)?: Yes (04/16/24 1135)\\n Primary Emergency Contact: Humdinger, Everest Relation: Daughter \\n Secondary Emergency Contact: Turbot, Ella Relation: Daughter \\nIs the person(s) listed above who you would want to be your trusted decision maker?   Yes\\n \\n \\n   \\n\\nRISK FACTORS AND CONDITIONS FOR WHICH INTERVENTIONS ARE RECOMMENDED AND/OR UNDERWAY\\nAre you currently on any kind of special diet? : No (04/16/24 1135)\\nDo you have problems with your teeth or dentures?: No (04/16/24 1135)\\nDuring the past 4 weeks, would you say you have had...: No pain (04/16/24 1135)\\nDo you have any concerns about your sexual health?: No (04/16/24 1135)\\n \\nNo new issues identified\\n \\n\\nEDUCATION/COUNSELING/REFERRAL(S) \\nNone indicated\\n\\nOrders Placed This Encounter\\n• CBC WITHOUT DIFFERENTIAL\\n• COMPREHENSIVE METABOLIC PANEL\\n• TSH\\n• T3 FREE\\n• T4 FREE\\n• VITAMIN D 25 HYDROXY\\n• PROLACTIN (Chemistry)\\n• LIPID PANEL\\n• EKG 12-LEAD\\n• liothyronine (CYTOMEL) 5 mcg Tablet\\n• levothyroxine 137 mcg tablet\\n• metoprolol succinate (TOPROL XL) 50 mg Extended Release 24 hour tablet\\n• traMADoL (ULTRAM) 50 mg tablet\\n• FOLLOW UP CHRONIC CONDITIONS COORDINATION\\n• FOLLOW UP COMBINATION WELL AND CHRONIC CONDITIONS COORDINATION\\n \\n \\nMs. Humdinger voiced understanding and agreement with the treatment plan. \\nAll questions were answered.  After-Visit-Summary provided to patient. \\n \\n\\nGETTING NEEDED CARE \\nPatient encouraged to contact us if they need care: \\n In-Person \\n \\n After hours/weekends - Mercy on Call \\n \\n Mercy Express Care \\n \\n\\nACUTE AND/OR CHRONIC ISSUES REQUIRING EVALUATION AND MANAGEMENT OUTSIDE THE WELLNESS VISIT  (Provider only) \\n \\n \\n\\n  ICD-10-CM ICD-9-CM\\n1. Medicare annual wellness visit, subsequent Z00.00 V70.0\\n2. Hypothyroidism due to acquired atrophy of thyroid E03.4 244.8\\n  246.8\\n3. Prolactinoma D35.2 227.3\\n4. Vitamin D deficiency E55.9 268.9\\n5. Essential hypertension, benign I10 401.1\\n6. Palpitations R00.2 785.1\\n7. Lumbar disc disease M51.9 722.93\\n \\n \\n\\n\\n\\nOffice Visit on 04/16/2024\\n\\nOffice Visit on 04/16/2024\\n\\n\\nRevision History\\n\\n\\nDetailed Report\\n\\nNote shared with patient\\nAdditional Documentation\\n\\nVitals: BP 154/80 Important  \\nPulse 86\\nTemp 98.6 °F (37 °C) (Temporal)\\nResp 16\\nHt 5' (1.524 m)\\nWt 61.2 kg (135 lb)\\nSpO2 98%\\nBMI 26.37 kg/m²\\nBSA 1.61 m²\\n\\nMore Vitals\\nFlowsheets: Patient-Reported Data,\\nBlood Pressure\\n\\nEncounter Info: Billing Info,\\nHistory,\\nAllergies,\\nDetailed Report\\n\\n\\nHealth Risk Assessment Comments: \\n \\nDementia Screening Comments: \\n \\nDepression Screening Comments: \\n \\nExamination Comments:\\n\""
      ]
     },
     "execution_count": 14,
     "metadata": {},
     "output_type": "execute_result"
    }
   ],
   "source": [
    "note_df['NOTE_TEXT'][1]"
   ]
  }
 ],
 "metadata": {
  "kernelspec": {
   "display_name": "Python 3",
   "language": "python",
   "name": "python3"
  },
  "language_info": {
   "codemirror_mode": {
    "name": "ipython",
    "version": 3
   },
   "file_extension": ".py",
   "mimetype": "text/x-python",
   "name": "python",
   "nbconvert_exporter": "python",
   "pygments_lexer": "ipython3",
   "version": "3.11.8"
  }
 },
 "nbformat": 4,
 "nbformat_minor": 2
}
