{
 "cells": [
  {
   "cell_type": "code",
   "execution_count": 1,
   "metadata": {},
   "outputs": [
    {
     "name": "stdout",
     "output_type": "stream",
     "text": [
      "['/workspaces/asclepius/src/Api/notebooks', '/usr/local/lib/python311.zip', '/usr/local/lib/python3.11', '/usr/local/lib/python3.11/lib-dynload', '', '/home/vscode/.local/lib/python3.11/site-packages', '/usr/local/lib/python3.11/site-packages', '/workspaces/asclepius/src/Api']\n"
     ]
    }
   ],
   "source": [
    "import sys\n",
    "sys.path.append('/workspaces/asclepius/src/Api')\n",
    "\n",
    "print(sys.path)"
   ]
  },
  {
   "cell_type": "code",
   "execution_count": 2,
   "metadata": {},
   "outputs": [],
   "source": [
    "from semantic_kernel.connectors.ai.open_ai import AzureChatCompletion\n",
    "from semantic_kernel.kernel import Kernel, KernelArguments\n",
    "from semantic_kernel.utils.settings import (\n",
    "    azure_openai_settings_from_dot_env,\n",
    ")\n",
    "import pandas as pd\n",
    "import tiktoken\n",
    "\n",
    "import Plugins.parse_notes_plugin as pnp"
   ]
  },
  {
   "cell_type": "code",
   "execution_count": 3,
   "metadata": {},
   "outputs": [],
   "source": [
    "enc = tiktoken.get_encoding('cl100k_base')"
   ]
  },
  {
   "cell_type": "code",
   "execution_count": 4,
   "metadata": {},
   "outputs": [
    {
     "data": {
      "text/plain": [
       "0    1560\n",
       "1    4203\n",
       "Name: NOTE_TEXT_TOKENS, dtype: int64"
      ]
     },
     "execution_count": 4,
     "metadata": {},
     "output_type": "execute_result"
    }
   ],
   "source": [
    "note_df = pd.read_csv('/workspaces/asclepius/src/Api/data/notes_no_PHI.csv')\n",
    "\n",
    "# calculate length of 'NOTE_TEXT' column and add value as another column\n",
    "note_df['NOTE_TEXT_TOKENS'] = note_df['NOTE_TEXT'].apply(lambda x: len(enc.encode(x)))\n",
    "\n",
    "note_df['NOTE_TEXT_TOKENS']"
   ]
  },
  {
   "cell_type": "markdown",
   "metadata": {},
   "source": [
    "## These native functions use only string parsing to fetch note sections"
   ]
  },
  {
   "cell_type": "code",
   "execution_count": 23,
   "metadata": {},
   "outputs": [
    {
     "data": {
      "text/html": [
       "<div>\n",
       "<style scoped>\n",
       "    .dataframe tbody tr th:only-of-type {\n",
       "        vertical-align: middle;\n",
       "    }\n",
       "\n",
       "    .dataframe tbody tr th {\n",
       "        vertical-align: top;\n",
       "    }\n",
       "\n",
       "    .dataframe thead th {\n",
       "        text-align: right;\n",
       "    }\n",
       "</style>\n",
       "<table border=\"1\" class=\"dataframe\">\n",
       "  <thead>\n",
       "    <tr style=\"text-align: right;\">\n",
       "      <th></th>\n",
       "      <th>NOTE_TEXT_TOKENS</th>\n",
       "      <th>CHIEF_COMPLAINT_TOKENS</th>\n",
       "      <th>ROS_TOKENS</th>\n",
       "      <th>ASSESSMENT_TOKENS</th>\n",
       "    </tr>\n",
       "  </thead>\n",
       "  <tbody>\n",
       "    <tr>\n",
       "      <th>0</th>\n",
       "      <td>1560</td>\n",
       "      <td>481</td>\n",
       "      <td>0</td>\n",
       "      <td>447</td>\n",
       "    </tr>\n",
       "    <tr>\n",
       "      <th>1</th>\n",
       "      <td>4203</td>\n",
       "      <td>672</td>\n",
       "      <td>100</td>\n",
       "      <td>2624</td>\n",
       "    </tr>\n",
       "  </tbody>\n",
       "</table>\n",
       "</div>"
      ],
      "text/plain": [
       "   NOTE_TEXT_TOKENS  CHIEF_COMPLAINT_TOKENS  ROS_TOKENS  ASSESSMENT_TOKENS\n",
       "0              1560                     481           0                447\n",
       "1              4203                     672         100               2624"
      ]
     },
     "execution_count": 23,
     "metadata": {},
     "output_type": "execute_result"
    }
   ],
   "source": [
    "plugin = pnp.ParseNotesPlugin()\n",
    "\n",
    "note_df['CHIEF_COMPLAINT'] = note_df['NOTE_TEXT'].apply(lambda x: plugin.get_chief_complaint(input=x))\n",
    "note_df['CHIEF_COMPLAINT_TOKENS'] = note_df['CHIEF_COMPLAINT'].apply(lambda x: len(enc.encode(x)))\n",
    "\n",
    "note_df['ROS'] = note_df['NOTE_TEXT'].apply(lambda x: plugin.get_ros(input=x))\n",
    "note_df['ROS_TOKENS'] = note_df['ROS'].apply(lambda x: len(enc.encode(x)))\n",
    "\n",
    "note_df['ASSESSMENT'] = note_df['NOTE_TEXT'].apply(lambda x: plugin.get_assessment(input=x))\n",
    "note_df['ASSESSMENT_TOKENS'] = note_df['ASSESSMENT'].apply(lambda x: len(enc.encode(x)))\n",
    "\n",
    "note_df[['NOTE_TEXT_TOKENS', 'CHIEF_COMPLAINT_TOKENS', 'ROS_TOKENS', 'ASSESSMENT_TOKENS']]\n",
    "\n",
    "#print(note_df['CHIEF_COMPLAINT'][1])\n"
   ]
  },
  {
   "cell_type": "code",
   "execution_count": null,
   "metadata": {},
   "outputs": [],
   "source": [
    "print(note_df['ASSESSMENT'][1])"
   ]
  },
  {
   "cell_type": "markdown",
   "metadata": {},
   "source": [
    "## Use OpenAI to find and generate summaries of the note sections"
   ]
  },
  {
   "cell_type": "code",
   "execution_count": 7,
   "metadata": {},
   "outputs": [
    {
     "name": "stdout",
     "output_type": "stream",
     "text": [
      "https://phjirsa-aoai.openai.azure.com/\n"
     ]
    },
    {
     "data": {
      "text/html": [
       "<div>\n",
       "<style scoped>\n",
       "    .dataframe tbody tr th:only-of-type {\n",
       "        vertical-align: middle;\n",
       "    }\n",
       "\n",
       "    .dataframe tbody tr th {\n",
       "        vertical-align: top;\n",
       "    }\n",
       "\n",
       "    .dataframe thead th {\n",
       "        text-align: right;\n",
       "    }\n",
       "</style>\n",
       "<table border=\"1\" class=\"dataframe\">\n",
       "  <thead>\n",
       "    <tr style=\"text-align: right;\">\n",
       "      <th></th>\n",
       "      <th>NOTE_TEXT_TOKENS</th>\n",
       "      <th>SUM_CHIEF_COMPLAINT_TOKENS</th>\n",
       "      <th>SUM_LAB_HISTORY_TOKENS</th>\n",
       "      <th>SUM_ASSESSMENT_TOKENS</th>\n",
       "    </tr>\n",
       "  </thead>\n",
       "  <tbody>\n",
       "    <tr>\n",
       "      <th>0</th>\n",
       "      <td>1560</td>\n",
       "      <td>179.0</td>\n",
       "      <td>480.0</td>\n",
       "      <td>205.0</td>\n",
       "    </tr>\n",
       "    <tr>\n",
       "      <th>1</th>\n",
       "      <td>4203</td>\n",
       "      <td>226.0</td>\n",
       "      <td>323.0</td>\n",
       "      <td>315.0</td>\n",
       "    </tr>\n",
       "  </tbody>\n",
       "</table>\n",
       "</div>"
      ],
      "text/plain": [
       "   NOTE_TEXT_TOKENS  SUM_CHIEF_COMPLAINT_TOKENS  SUM_LAB_HISTORY_TOKENS  \\\n",
       "0              1560                       179.0                   480.0   \n",
       "1              4203                       226.0                   323.0   \n",
       "\n",
       "   SUM_ASSESSMENT_TOKENS  \n",
       "0                  205.0  \n",
       "1                  315.0  "
      ]
     },
     "execution_count": 7,
     "metadata": {},
     "output_type": "execute_result"
    }
   ],
   "source": [
    "deployment, api_key, endpoint = azure_openai_settings_from_dot_env()\n",
    "print(endpoint)\n",
    "\n",
    "kernel = Kernel()\n",
    "service_id = \"default\"\n",
    "\n",
    "kernel.add_service(AzureChatCompletion(\n",
    "    service_id=service_id,    \n",
    "    deployment_name=deployment,\n",
    "    endpoint=endpoint,\n",
    "    api_key=api_key,\n",
    "))\n",
    "\n",
    "plugin = kernel.import_plugin_from_prompt_directory('/workspaces/asclepius/src/Api/Plugins', 'summarize_note')\n",
    "\n",
    "functions = [\n",
    "    plugin[\"summarize_chief_complaint\"], \n",
    "    plugin[\"summarize_lab_history\"],\n",
    "    plugin[\"summarize_assessment\"]\n",
    "]\n",
    "\n",
    "for idx, note in note_df.iterrows():\n",
    "    arguments = KernelArguments(input=note[\"NOTE_TEXT\"])\n",
    "    response = await kernel.invoke(functions, arguments)\n",
    "\n",
    "    note_df.loc[idx, 'SUM_CHIEF_COMPLAINT'] = response[0].value[0].content\n",
    "    note_df.loc[idx, 'SUM_LAB_HISTORY'] = response[1].value[0].content\n",
    "    note_df.loc[idx, 'SUM_ASSESSMENT'] = response[2].value[0].content\n",
    "    \n",
    "    note_df.loc[idx, 'SUM_CHIEF_COMPLAINT_TOKENS'] = int(len(enc.encode(response[0].value[0].content)))\n",
    "    note_df.loc[idx, 'SUM_LAB_HISTORY_TOKENS'] = int(len(enc.encode(response[1].value[0].content)))\n",
    "    note_df.loc[idx, 'SUM_ASSESSMENT_TOKENS'] = int(len(enc.encode(response[2].value[0].content)))\n",
    "\n",
    "cols = ['NOTE_TEXT_TOKENS', 'SUM_CHIEF_COMPLAINT_TOKENS', 'SUM_LAB_HISTORY_TOKENS', 'SUM_ASSESSMENT_TOKENS']\n",
    "note_df[cols]\n",
    "\n",
    "#chief_complaint = response[0].value[0].content\n"
   ]
  },
  {
   "cell_type": "code",
   "execution_count": 44,
   "metadata": {},
   "outputs": [],
   "source": [
    "note_df[cols].to_csv('/workspaces/asclepius/src/Api/data/output/note_summary.csv', index=False)"
   ]
  },
  {
   "cell_type": "code",
   "execution_count": 13,
   "metadata": {},
   "outputs": [
    {
     "name": "stdout",
     "output_type": "stream",
     "text": [
      "The patient's chief complaint during this visit was for an Annual Wellness Visit (Medicare) and Medication Review. The patient reported taking half of all her medications and mentioned that her smartwatch tells her she has atrial fibrillation. She also discussed her history of palpitations and cutting her medications in half, as well as her history of elevated prolactin and her use of natural supplements. The patient also mentioned her symptoms of hypothyroidism, including palpitations. The provider reviewed previous lab results and discussed adjusting the patient's medication regimen. The patient also reported occasional feelings of anger and loneliness. The provider conducted a physical exam and reviewed the patient's current medications. The patient's vital signs were within normal limits. The provider made assessments and plans for various conditions, including hypothyroidism, prolactinoma, vitamin D deficiency, essential hypertension, palpitations, and lumbar disc disease. The provider also discussed preventive care recommendations and conducted a risk assessment. The patient's cognitive impairment and advance care planning were also addressed. No new issues were identified, and the patient voiced understanding and agreement with the treatment plan.\n"
     ]
    }
   ],
   "source": [
    "print(note_df['SUM_CHIEF_COMPLAINT'][1])"
   ]
  }
 ],
 "metadata": {
  "kernelspec": {
   "display_name": "Python 3",
   "language": "python",
   "name": "python3"
  },
  "language_info": {
   "codemirror_mode": {
    "name": "ipython",
    "version": 3
   },
   "file_extension": ".py",
   "mimetype": "text/x-python",
   "name": "python",
   "nbconvert_exporter": "python",
   "pygments_lexer": "ipython3",
   "version": "3.11.8"
  }
 },
 "nbformat": 4,
 "nbformat_minor": 2
}
